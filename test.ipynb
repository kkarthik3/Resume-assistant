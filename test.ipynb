{
 "cells": [
  {
   "cell_type": "code",
   "execution_count": null,
   "metadata": {},
   "outputs": [],
   "source": []
  },
  {
   "cell_type": "code",
   "execution_count": 42,
   "metadata": {},
   "outputs": [
    {
     "name": "stdout",
     "output_type": "stream",
     "text": [
      "MongoClient(host=['cluster0-shard-00-02.vgbtm.mongodb.net:27017', 'cluster0-shard-00-01.vgbtm.mongodb.net:27017', 'cluster0-shard-00-00.vgbtm.mongodb.net:27017'], document_class=dict, tz_aware=False, connect=True, authsource='admin', replicaset='atlas-rb1oqm-shard-0', tls=True)\n",
      "Collection(Database(MongoClient(host=['cluster0-shard-00-02.vgbtm.mongodb.net:27017', 'cluster0-shard-00-01.vgbtm.mongodb.net:27017', 'cluster0-shard-00-00.vgbtm.mongodb.net:27017'], document_class=dict, tz_aware=False, connect=True, authsource='admin', replicaset='atlas-rb1oqm-shard-0', tls=True), 'portfolio'), 'test')\n"
     ]
    }
   ],
   "source": [
    "from pymongo import MongoClient\n",
    "import os\n",
    "def connect_to_mongo():\n",
    "    client = MongoClient(os.getenv(\"MONGO_URI\"))\n",
    "    collection = client[\"portfolio\"][\"test\"]\n",
    "    return client, collection\n",
    "client,collection = connect_to_mongo()\n",
    "print(client)\n",
    "print(collection)"
   ]
  },
  {
   "cell_type": "code",
   "execution_count": null,
   "metadata": {},
   "outputs": [],
   "source": [
    "client.drop_database(\"portfolio\")"
   ]
  },
  {
   "cell_type": "code",
   "execution_count": 43,
   "metadata": {},
   "outputs": [
    {
     "data": {
      "text/plain": [
       "['oorjit', 'pedalmobility', 'portfolio', 'admin', 'local']"
      ]
     },
     "execution_count": 43,
     "metadata": {},
     "output_type": "execute_result"
    }
   ],
   "source": [
    "client.list_database_names()"
   ]
  },
  {
   "cell_type": "code",
   "execution_count": 44,
   "metadata": {},
   "outputs": [
    {
     "data": {
      "text/plain": [
       "DeleteResult({'n': 240, 'electionId': ObjectId('7fffffff0000000000000312'), 'opTime': {'ts': Timestamp(1731167278, 233), 't': 786}, 'ok': 1.0, '$clusterTime': {'clusterTime': Timestamp(1731167278, 242), 'signature': {'hash': b'\\x02\\x02\\xf8\\x946\\xb2z`\\xb3m\\x11X\\xd7\\xfe\\xee$\\xbb\\x95\\x8f\\x94', 'keyId': 7398866171417591816}}, 'operationTime': Timestamp(1731167278, 233)}, acknowledged=True)"
      ]
     },
     "execution_count": 44,
     "metadata": {},
     "output_type": "execute_result"
    }
   ],
   "source": [
    "collection.delete_many({})"
   ]
  },
  {
   "cell_type": "code",
   "execution_count": null,
   "metadata": {},
   "outputs": [],
   "source": []
  }
 ],
 "metadata": {
  "kernelspec": {
   "display_name": "Python 3",
   "language": "python",
   "name": "python3"
  },
  "language_info": {
   "codemirror_mode": {
    "name": "ipython",
    "version": 3
   },
   "file_extension": ".py",
   "mimetype": "text/x-python",
   "name": "python",
   "nbconvert_exporter": "python",
   "pygments_lexer": "ipython3",
   "version": "3.11.9"
  }
 },
 "nbformat": 4,
 "nbformat_minor": 2
}
